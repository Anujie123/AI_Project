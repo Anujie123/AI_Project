{
 "cells": [
  {
   "cell_type": "code",
   "execution_count": null,
   "id": "ffc79755",
   "metadata": {
    "vscode": {
     "languageId": "plaintext"
    }
   },
   "outputs": [],
   "source": [
    "# %% [markdown]\n",
    "# # Data Preprocessing\n",
    "# \n",
    "# This notebook handles data cleaning and feature engineering\n",
    "\n",
    "# %%\n",
    "import pandas as pd\n",
    "\n",
    "# Load data\n",
    "red = pd.read_csv('../data/winequality-red.csv', sep=';')\n",
    "white = pd.read_csv('../data/winequality-white.csv', sep=';')\n",
    "\n",
    "# Add type and combine\n",
    "red['type'] = 1\n",
    "white['type'] = 0\n",
    "data = pd.concat([red, white])\n",
    "\n",
    "# Feature engineering\n",
    "data['sulfur_ratio'] = data['free sulfur dioxide'] / data['total sulfur dioxide']\n",
    "\n",
    "# Save processed data\n",
    "data.to_csv('../data/processed_data.csv', index=False)"
   ]
  }
 ],
 "metadata": {
  "language_info": {
   "name": "python"
  }
 },
 "nbformat": 4,
 "nbformat_minor": 5
}
