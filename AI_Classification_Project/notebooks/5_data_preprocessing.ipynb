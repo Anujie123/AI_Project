{
 "cells": [
  {
   "cell_type": "code",
   "execution_count": null,
   "id": "cc58243f",
   "metadata": {
    "vscode": {
     "languageId": "plaintext"
    }
   },
   "outputs": [],
   "source": [
    "# %% [markdown]\n",
    "# # Model Evaluation\n",
    "\n",
    "# %%\n",
    "import joblib\n",
    "import pandas as pd\n",
    "from sklearn.metrics import accuracy_score\n",
    "\n",
    "# Load models\n",
    "svm = joblib.load('../models/svm_model.pkl')\n",
    "nb = joblib.load('../models/nb_model.pkl')\n",
    "dnn = tf.keras.models.load_model('../models/dnn_model.h5')\n",
    "\n",
    "# Load data\n",
    "data = pd.read_csv('../data/processed_data.csv')\n",
    "X = data.drop('quality', axis=1)\n",
    "y = data['quality']\n",
    "\n",
    "# Evaluate models\n",
    "print(\"SVM Accuracy:\", accuracy_score(y, svm.predict(X)))\n",
    "print(\"NB Accuracy:\", accuracy_score(y, nb.predict(X)))\n",
    "print(\"DNN Accuracy:\", dnn.evaluate(X, pd.factorize(y)[0])[1])"
   ]
  }
 ],
 "metadata": {
  "language_info": {
   "name": "python"
  }
 },
 "nbformat": 4,
 "nbformat_minor": 5
}
