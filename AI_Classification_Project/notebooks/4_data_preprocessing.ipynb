{
 "cells": [
  {
   "cell_type": "code",
   "execution_count": null,
   "id": "a36c4798",
   "metadata": {
    "vscode": {
     "languageId": "plaintext"
    }
   },
   "outputs": [],
   "source": [
    "# %% [markdown]\n",
    "# # DNN Implementation\n",
    "\n",
    "# %%\n",
    "import tensorflow as tf\n",
    "from tensorflow.keras.models import Sequential\n",
    "from tensorflow.keras.layers import Dense\n",
    "import pandas as pd\n",
    "\n",
    "# Load data\n",
    "data = pd.read_csv('../data/processed_data.csv')\n",
    "X = data.drop('quality', axis=1)\n",
    "y = pd.factorize(data['quality'])[0]\n",
    "\n",
    "# Build model\n",
    "model = Sequential([\n",
    "    Dense(64, activation='relu'),\n",
    "    Dense(32, activation='relu'),\n",
    "    Dense(len(set(y)), activation='softmax')\n",
    "])\n",
    "model.compile(optimizer='adam', loss='sparse_categorical_crossentropy', metrics=['accuracy'])\n",
    "model.fit(X, y, epochs=10)\n",
    "\n",
    "# Save model\n",
    "model.save('../models/dnn_model.h5')"
   ]
  }
 ],
 "metadata": {
  "language_info": {
   "name": "python"
  }
 },
 "nbformat": 4,
 "nbformat_minor": 5
}
